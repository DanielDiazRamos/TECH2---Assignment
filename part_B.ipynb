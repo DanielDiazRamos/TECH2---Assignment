{
 "cells": [
  {
   "cell_type": "markdown",
   "metadata": {},
   "source": [
    "# TECH 2 mandatory assignment - Part B\n",
    "\n",
    "Write your solution for Part B in this notebook."
   ]
  },
  {
   "cell_type": "markdown",
   "metadata": {},
   "source": [
    "**We import all the necessary libraries. Both NumPy and our own part_A**"
   ]
  },
  {
   "cell_type": "code",
   "execution_count": 3,
   "metadata": {},
   "outputs": [],
   "source": [
    "import part_A\n",
    "import numpy as np"
   ]
  },
  {
   "cell_type": "markdown",
   "metadata": {},
   "source": [
    "**We open the data file**\n",
    "\n",
    "And we save the data divided in rows:"
   ]
  },
  {
   "cell_type": "code",
   "execution_count": 13,
   "metadata": {},
   "outputs": [],
   "source": [
    "rows = open(\"data.csv\", \"r\")\n",
    "\n",
    "# WE CALCULATE HOW MANY ROWS WE HAVE\n",
    "\n",
    "rowlen = np.array(list(rows.read()))\n",
    "commas = np.where(rowlen == ',')[0]\n",
    "numrows = int((len(commas))/2)\n",
    "\n",
    "# WE SAVE EVERY ROW SEPARATED\n",
    "\n",
    "rows2 = open(\"data.csv\", \"r\")\n",
    "\n",
    "rowsdata = []\n",
    "count = 0\n",
    "\n",
    "while count <= numrows:\n",
    "    rowsdata.append(rows2.readline())\n",
    "    count = count+1"
   ]
  },
  {
   "cell_type": "markdown",
   "metadata": {},
   "source": [
    "**We calculate how long is every data columns**\n",
    "\n",
    "By finding the rows that begin with commas"
   ]
  },
  {
   "cell_type": "code",
   "execution_count": 273,
   "metadata": {},
   "outputs": [],
   "source": [
    "count = 0\n",
    "row1 = []\n",
    "row2 = []\n",
    "row3 = []\n",
    "\n",
    "while count <= numrows:\n",
    "    rowlist = list(rowsdata[count])\n",
    "    nprowlist = np.array(rowlist)\n",
    "    wherecomma = np.where(nprowlist == \",\")[0]\n",
    "    wheren = np.where(nprowlist == \"\\n\")[0]\n",
    "\n",
    "    # WE CHECK IF THE LIST IS BROKEN\n",
    "    if rowlist == []:\n",
    "        count = count +1\n",
    "\n",
    "    # WE COMPLETE THE FIRST LIST\n",
    "    elif rowlist[0] == \"0\":\n",
    "        row1.append(float(\"\".join(rowlist[0:((wherecomma[0]))])))\n",
    "        row2.append(float(\"\".join(rowlist[((wherecomma[0])+1):((wherecomma[1]))])))\n",
    "        row3.append(float(\"\".join(rowlist[((wherecomma[1])+1):((wheren[0]))])))\n",
    "\n",
    "    # WE COMPLETE THE SECOND LIST\n",
    "    elif rowlist[1] == \"0\":\n",
    "        row2.append(float(\"\".join(rowlist[((wherecomma[0])+1):((wherecomma[1]))])))\n",
    "        row3.append(float(\"\".join(rowlist[((wherecomma[1])+1):((wheren[0]))])))\n",
    "\n",
    "    # WE COMPLETE THE THIRD LIST\n",
    "    elif rowlist[2] == \"0\":\n",
    "        row3.append(float(\"\".join(rowlist[((wherecomma[1])+1):((wheren[0]))])))\n",
    "\n",
    "    \n",
    "    count = count + 1"
   ]
  },
  {
   "cell_type": "code",
   "execution_count": 269,
   "metadata": {},
   "outputs": [
    {
     "data": {
      "text/plain": [
       "9999"
      ]
     },
     "execution_count": 269,
     "metadata": {},
     "output_type": "execute_result"
    }
   ],
   "source": [
    "len(row3)"
   ]
  },
  {
   "cell_type": "code",
   "execution_count": 189,
   "metadata": {},
   "outputs": [
    {
     "data": {
      "text/plain": [
       "array(['2', '4', ',', '5', 't', '3', '5', ',', '4', '5', '4', '2'],\n",
       "      dtype='<U1')"
      ]
     },
     "execution_count": 189,
     "metadata": {},
     "output_type": "execute_result"
    }
   ],
   "source": []
  },
  {
   "cell_type": "code",
   "execution_count": 193,
   "metadata": {},
   "outputs": [
    {
     "data": {
      "text/plain": [
       "array(['0', '.', '0', ..., '5', '4', '\\n'], dtype='<U1')"
      ]
     },
     "execution_count": 193,
     "metadata": {},
     "output_type": "execute_result"
    }
   ],
   "source": []
  },
  {
   "cell_type": "code",
   "execution_count": null,
   "metadata": {},
   "outputs": [],
   "source": []
  }
 ],
 "metadata": {
  "kernelspec": {
   "display_name": "Python 3 (ipykernel)",
   "language": "python",
   "name": "python3"
  },
  "language_info": {
   "codemirror_mode": {
    "name": "ipython",
    "version": 3
   },
   "file_extension": ".py",
   "mimetype": "text/x-python",
   "name": "python",
   "nbconvert_exporter": "python",
   "pygments_lexer": "ipython3",
   "version": "3.12.4"
  }
 },
 "nbformat": 4,
 "nbformat_minor": 4
}

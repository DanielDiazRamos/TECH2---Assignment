{
 "cells": [
  {
   "cell_type": "markdown",
   "metadata": {},
   "source": [
    "# TECH 2 mandatory assignment - Part B\n",
    "\n",
    "Write your solution for Part B in this notebook."
   ]
  },
  {
   "cell_type": "markdown",
   "metadata": {},
   "source": [
    "**We import all the necessary libraries. Both NumPy and our own part_A**"
   ]
  },
  {
   "cell_type": "code",
   "execution_count": 367,
   "metadata": {},
   "outputs": [],
   "source": [
    "import part_A\n",
    "import numpy as np\n",
    "import time"
   ]
  },
  {
   "cell_type": "markdown",
   "metadata": {},
   "source": [
    "**We open the data file**\n",
    "\n",
    "And we save the data divided in rows:"
   ]
  },
  {
   "cell_type": "code",
   "execution_count": 370,
   "metadata": {},
   "outputs": [],
   "source": [
    "rows = open(\"data.csv\", \"r\")\n",
    "\n",
    "# WE CALCULATE HOW MANY ROWS WE HAVE\n",
    "\n",
    "rowlen = np.array(list(rows.read()))\n",
    "commas = np.where(rowlen == ',')[0]\n",
    "numrows = int((len(commas))/2)\n",
    "\n",
    "# WE SAVE EVERY ROW SEPARATED\n",
    "\n",
    "rows2 = open(\"data.csv\", \"r\")\n",
    "\n",
    "rowsdata = []\n",
    "count = 0\n",
    "\n",
    "while count <= numrows:\n",
    "    rowsdata.append(rows2.readline())\n",
    "    count = count+1"
   ]
  },
  {
   "cell_type": "markdown",
   "metadata": {},
   "source": [
    "**We calculate how long is every data columns**\n",
    "\n",
    "By finding the rows that begin with commas"
   ]
  },
  {
   "cell_type": "code",
   "execution_count": 373,
   "metadata": {},
   "outputs": [],
   "source": [
    "count = 0\n",
    "row1 = []\n",
    "row2 = []\n",
    "row3 = []\n",
    "\n",
    "while count <= numrows:\n",
    "    rowlist = list(rowsdata[count])\n",
    "    nprowlist = np.array(rowlist)\n",
    "    wherecomma = np.where(nprowlist == \",\")[0]\n",
    "    wheren = np.where(nprowlist == \"\\n\")[0]\n",
    "\n",
    "    # WE CHECK IF THE LIST IS BROKEN\n",
    "    if rowlist == []:\n",
    "        count = count +1\n",
    "\n",
    "    # WE COMPLETE THE FIRST LIST\n",
    "    elif rowlist[0] == \"0\":\n",
    "        row1.append(float(\"\".join(rowlist[0:((wherecomma[0]))])))\n",
    "        row2.append(float(\"\".join(rowlist[((wherecomma[0])+1):((wherecomma[1]))])))\n",
    "        row3.append(float(\"\".join(rowlist[((wherecomma[1])+1):((wheren[0]))])))\n",
    "\n",
    "    # WE COMPLETE THE SECOND LIST\n",
    "    elif rowlist[1] == \"0\":\n",
    "        row2.append(float(\"\".join(rowlist[((wherecomma[0])+1):((wherecomma[1]))])))\n",
    "        row3.append(float(\"\".join(rowlist[((wherecomma[1])+1):((wheren[0]))])))\n",
    "\n",
    "    # WE COMPLETE THE THIRD LIST\n",
    "    elif rowlist[2] == \"0\":\n",
    "        row3.append(float(\"\".join(rowlist[((wherecomma[1])+1):((wheren[0]))])))\n",
    "\n",
    "    \n",
    "    count = count + 1"
   ]
  },
  {
   "cell_type": "markdown",
   "metadata": {},
   "source": [
    "**We now proceed to test the speed of the first function using only loops**\n",
    "\n",
    "And we record the time marks:"
   ]
  },
  {
   "cell_type": "code",
   "execution_count": 387,
   "metadata": {},
   "outputs": [
    {
     "name": "stdout",
     "output_type": "stream",
     "text": [
      "0.0\n",
      "0.004076719284057617\n",
      "0.2555363178253174\n"
     ]
    }
   ],
   "source": [
    "start_time = time.time()\n",
    "part_A.std_loops(row1)\n",
    "end_time = time.time()\n",
    "time_row1 = end_time - start_time\n",
    "\n",
    "start_time = time.time()\n",
    "part_A.std_loops(row2)\n",
    "end_time = time.time()\n",
    "time_row2 = end_time - start_time\n",
    "\n",
    "start_time = time.time()\n",
    "part_A.std_loops(row3)\n",
    "end_time = time.time()\n",
    "time_row3 = end_time - start_time\n",
    "\n",
    "print(time_row1)\n",
    "print(time_row2)\n",
    "print(time_row3)"
   ]
  },
  {
   "cell_type": "markdown",
   "metadata": {},
   "source": [
    "**Now we can record the execution time of the second function**\n",
    "\n",
    "The function in which we used built-in functions for the sake of simplicity:"
   ]
  },
  {
   "cell_type": "code",
   "execution_count": 385,
   "metadata": {},
   "outputs": [
    {
     "name": "stdout",
     "output_type": "stream",
     "text": [
      "0.0\n",
      "0.0\n",
      "0.0019450187683105469\n"
     ]
    }
   ],
   "source": [
    "start_time = time.time()\n",
    "part_A.std_builtin(np.array(row1))\n",
    "end_time = time.time()\n",
    "time_row1 = end_time - start_time\n",
    "\n",
    "start_time = time.time()\n",
    "part_A.std_builtin(np.array(row2))\n",
    "end_time = time.time()\n",
    "time_row2 = end_time - start_time\n",
    "\n",
    "start_time = time.time()\n",
    "part_A.std_builtin(np.array(row3))\n",
    "end_time = time.time()\n",
    "time_row3 = end_time - start_time\n",
    "\n",
    "print(time_row1)\n",
    "print(time_row2)\n",
    "print(time_row3)"
   ]
  },
  {
   "cell_type": "markdown",
   "metadata": {},
   "source": [
    "**Finally, we can evaluate the execution time of np.std**\n",
    "\n",
    "And record it, as in the previous tests:"
   ]
  },
  {
   "cell_type": "code",
   "execution_count": 399,
   "metadata": {},
   "outputs": [
    {
     "name": "stdout",
     "output_type": "stream",
     "text": [
      "0.0\n",
      "0.0010123252868652344\n",
      "0.0009856224060058594\n"
     ]
    }
   ],
   "source": [
    "start_time = time.time()\n",
    "np.std(row1)\n",
    "end_time = time.time()\n",
    "time_row1 = end_time - start_time\n",
    "\n",
    "start_time = time.time()\n",
    "np.std(row2)\n",
    "end_time = time.time()\n",
    "time_row2 = end_time - start_time\n",
    "\n",
    "start_time = time.time()\n",
    "np.std(row3)\n",
    "end_time = time.time()\n",
    "time_row3 = end_time - start_time\n",
    "\n",
    "print(time_row1)\n",
    "print(time_row2)\n",
    "print(time_row3)"
   ]
  },
  {
   "cell_type": "markdown",
   "metadata": {},
   "source": [
    "**Results evaluation:**\n",
    "\n",
    "As expected, the functions created by a first year programming student are not as efficient as those developed by software engineers who have spent the last decades of their life not only learning, but developing this programming language. Let alone an international community composed by thousands of them, who keep developing these open source libraries.\n",
    "\n",
    "And therefore, we should rely on these wonderful open source tools created by the community rather than \"re-inventing gunpowder\"."
   ]
  }
 ],
 "metadata": {
  "kernelspec": {
   "display_name": "Python 3 (ipykernel)",
   "language": "python",
   "name": "python3"
  },
  "language_info": {
   "codemirror_mode": {
    "name": "ipython",
    "version": 3
   },
   "file_extension": ".py",
   "mimetype": "text/x-python",
   "name": "python",
   "nbconvert_exporter": "python",
   "pygments_lexer": "ipython3",
   "version": "3.12.4"
  }
 },
 "nbformat": 4,
 "nbformat_minor": 4
}

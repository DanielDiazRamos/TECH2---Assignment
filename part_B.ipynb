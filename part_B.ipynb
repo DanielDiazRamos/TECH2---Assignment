{
 "cells": [
  {
   "cell_type": "markdown",
   "metadata": {},
   "source": [
    "# TECH 2 mandatory assignment - Part B\n",
    "\n",
    "Write your solution for Part B in this notebook."
   ]
  },
  {
   "cell_type": "markdown",
   "metadata": {},
   "source": [
    "**We import all the necessary libraries. Both NumPy and our own part_A**"
   ]
  },
  {
   "cell_type": "code",
   "execution_count": 331,
   "metadata": {},
   "outputs": [],
   "source": [
    "import part_A\n",
    "import numpy as np\n",
    "import time"
   ]
  },
  {
   "cell_type": "markdown",
   "metadata": {},
   "source": [
    "**We open the data file**\n",
    "\n",
    "And we save the data divided in rows:"
   ]
  },
  {
   "cell_type": "code",
   "execution_count": 13,
   "metadata": {},
   "outputs": [],
   "source": [
    "rows = open(\"data.csv\", \"r\")\n",
    "\n",
    "# WE CALCULATE HOW MANY ROWS WE HAVE\n",
    "\n",
    "rowlen = np.array(list(rows.read()))\n",
    "commas = np.where(rowlen == ',')[0]\n",
    "numrows = int((len(commas))/2)\n",
    "\n",
    "# WE SAVE EVERY ROW SEPARATED\n",
    "\n",
    "rows2 = open(\"data.csv\", \"r\")\n",
    "\n",
    "rowsdata = []\n",
    "count = 0\n",
    "\n",
    "while count <= numrows:\n",
    "    rowsdata.append(rows2.readline())\n",
    "    count = count+1"
   ]
  },
  {
   "cell_type": "markdown",
   "metadata": {},
   "source": [
    "**We calculate how long is every data columns**\n",
    "\n",
    "By finding the rows that begin with commas"
   ]
  },
  {
   "cell_type": "code",
   "execution_count": 273,
   "metadata": {},
   "outputs": [],
   "source": [
    "count = 0\n",
    "row1 = []\n",
    "row2 = []\n",
    "row3 = []\n",
    "\n",
    "while count <= numrows:\n",
    "    rowlist = list(rowsdata[count])\n",
    "    nprowlist = np.array(rowlist)\n",
    "    wherecomma = np.where(nprowlist == \",\")[0]\n",
    "    wheren = np.where(nprowlist == \"\\n\")[0]\n",
    "\n",
    "    # WE CHECK IF THE LIST IS BROKEN\n",
    "    if rowlist == []:\n",
    "        count = count +1\n",
    "\n",
    "    # WE COMPLETE THE FIRST LIST\n",
    "    elif rowlist[0] == \"0\":\n",
    "        row1.append(float(\"\".join(rowlist[0:((wherecomma[0]))])))\n",
    "        row2.append(float(\"\".join(rowlist[((wherecomma[0])+1):((wherecomma[1]))])))\n",
    "        row3.append(float(\"\".join(rowlist[((wherecomma[1])+1):((wheren[0]))])))\n",
    "\n",
    "    # WE COMPLETE THE SECOND LIST\n",
    "    elif rowlist[1] == \"0\":\n",
    "        row2.append(float(\"\".join(rowlist[((wherecomma[0])+1):((wherecomma[1]))])))\n",
    "        row3.append(float(\"\".join(rowlist[((wherecomma[1])+1):((wheren[0]))])))\n",
    "\n",
    "    # WE COMPLETE THE THIRD LIST\n",
    "    elif rowlist[2] == \"0\":\n",
    "        row3.append(float(\"\".join(rowlist[((wherecomma[1])+1):((wheren[0]))])))\n",
    "\n",
    "    \n",
    "    count = count + 1"
   ]
  },
  {
   "cell_type": "markdown",
   "metadata": {},
   "source": [
    "**We now proceed to test the speed of the first function using only loops**\n",
    "\n",
    "And we record the time marks:"
   ]
  },
  {
   "cell_type": "code",
   "execution_count": 315,
   "metadata": {},
   "outputs": [
    {
     "name": "stdout",
     "output_type": "stream",
     "text": [
      "0.0\n",
      "0.005216836929321289\n",
      "0.21158552169799805\n"
     ]
    }
   ],
   "source": [
    "start_time = time.time()\n",
    "part_A.std_loops(row1)\n",
    "end_time = time.time()\n",
    "time_row1 = end_time - start_time\n",
    "\n",
    "start_time = time.time()\n",
    "part_A.std_loops(row2)\n",
    "end_time = time.time()\n",
    "time_row2 = end_time - start_time\n",
    "\n",
    "start_time = time.time()\n",
    "part_A.std_loops(row3)\n",
    "end_time = time.time()\n",
    "time_row3 = end_time - start_time\n",
    "\n",
    "print(time_row1)\n",
    "print(time_row2)\n",
    "print(time_row3)"
   ]
  },
  {
   "cell_type": "markdown",
   "metadata": {},
   "source": [
    "**Now we can record the execution time of the second function**\n",
    "\n",
    "The function in which we used built-in functions for the sake of simplicity:"
   ]
  },
  {
   "cell_type": "code",
   "execution_count": 311,
   "metadata": {},
   "outputs": [
    {
     "ename": "TypeError",
     "evalue": "unsupported operand type(s) for ** or pow(): 'list' and 'int'",
     "output_type": "error",
     "traceback": [
      "\u001b[1;31m---------------------------------------------------------------------------\u001b[0m",
      "\u001b[1;31mTypeError\u001b[0m                                 Traceback (most recent call last)",
      "Cell \u001b[1;32mIn[311], line 2\u001b[0m\n\u001b[0;32m      1\u001b[0m start_time \u001b[38;5;241m=\u001b[39m time\u001b[38;5;241m.\u001b[39mtime()\n\u001b[1;32m----> 2\u001b[0m part_A\u001b[38;5;241m.\u001b[39mstd_builtin(row1)\n\u001b[0;32m      3\u001b[0m end_time \u001b[38;5;241m=\u001b[39m time\u001b[38;5;241m.\u001b[39mtime()\n\u001b[0;32m      4\u001b[0m time_row1 \u001b[38;5;241m=\u001b[39m end_time \u001b[38;5;241m-\u001b[39m start_time\n",
      "File \u001b[1;32m~\\Desktop\\TECH 2\\ASSIGNMENTS\\TECH2-H24-assignment-main\\part_A.py:92\u001b[0m, in \u001b[0;36mstd_builtin\u001b[1;34m(x)\u001b[0m\n\u001b[0;32m     88\u001b[0m meanx \u001b[38;5;241m=\u001b[39m (\u001b[38;5;241m1\u001b[39m\u001b[38;5;241m/\u001b[39mN) \u001b[38;5;241m*\u001b[39m np\u001b[38;5;241m.\u001b[39msum(x)\n\u001b[0;32m     90\u001b[0m \u001b[38;5;66;03m# WE COMPUTE \"S\" (THE MEAN OF THE SQUARES)\u001b[39;00m\n\u001b[1;32m---> 92\u001b[0m S \u001b[38;5;241m=\u001b[39m (\u001b[38;5;241m1\u001b[39m\u001b[38;5;241m/\u001b[39mN) \u001b[38;5;241m*\u001b[39m np\u001b[38;5;241m.\u001b[39msum(x\u001b[38;5;241m*\u001b[39m\u001b[38;5;241m*\u001b[39m\u001b[38;5;241m2\u001b[39m)\n\u001b[0;32m     94\u001b[0m \u001b[38;5;66;03m# WE COMPUTE THE VARIANCE\u001b[39;00m\n\u001b[0;32m     96\u001b[0m var1 \u001b[38;5;241m=\u001b[39m meanx\u001b[38;5;241m*\u001b[39m\u001b[38;5;241m*\u001b[39m\u001b[38;5;241m2\u001b[39m\n",
      "\u001b[1;31mTypeError\u001b[0m: unsupported operand type(s) for ** or pow(): 'list' and 'int'"
     ]
    }
   ],
   "source": [
    "start_time = time.time()\n",
    "part_A.std_builtin(row1)\n",
    "end_time = time.time()\n",
    "time_row1 = end_time - start_time\n",
    "\n",
    "start_time = time.time()\n",
    "part_A.std_builtin(row2)\n",
    "end_time = time.time()\n",
    "time_row2 = end_time - start_time\n",
    "\n",
    "start_time = time.time()\n",
    "part_A.std_builtin(row3)\n",
    "end_time = time.time()\n",
    "time_row3 = end_time - start_time\n",
    "\n",
    "print(time_row1)\n",
    "print(time_row2)\n",
    "print(time_row3)"
   ]
  },
  {
   "cell_type": "code",
   "execution_count": 337,
   "metadata": {},
   "outputs": [
    {
     "ename": "TypeError",
     "evalue": "unsupported operand type(s) for ** or pow(): 'list' and 'int'",
     "output_type": "error",
     "traceback": [
      "\u001b[1;31m---------------------------------------------------------------------------\u001b[0m",
      "\u001b[1;31mTypeError\u001b[0m                                 Traceback (most recent call last)",
      "Cell \u001b[1;32mIn[337], line 3\u001b[0m\n\u001b[0;32m      1\u001b[0m \u001b[38;5;28;01mimport\u001b[39;00m \u001b[38;5;21;01mpart_A\u001b[39;00m\n\u001b[1;32m----> 3\u001b[0m part_A\u001b[38;5;241m.\u001b[39mstd_builtin((row2))\n",
      "File \u001b[1;32m~\\Desktop\\TECH 2\\ASSIGNMENTS\\TECH2-H24-assignment-main\\part_A.py:92\u001b[0m, in \u001b[0;36mstd_builtin\u001b[1;34m(x)\u001b[0m\n\u001b[0;32m     88\u001b[0m meanx \u001b[38;5;241m=\u001b[39m (\u001b[38;5;241m1\u001b[39m\u001b[38;5;241m/\u001b[39mN) \u001b[38;5;241m*\u001b[39m np\u001b[38;5;241m.\u001b[39msum(x)\n\u001b[0;32m     90\u001b[0m \u001b[38;5;66;03m# WE COMPUTE \"S\" (THE MEAN OF THE SQUARES)\u001b[39;00m\n\u001b[1;32m---> 92\u001b[0m S \u001b[38;5;241m=\u001b[39m (\u001b[38;5;241m1\u001b[39m\u001b[38;5;241m/\u001b[39mN) \u001b[38;5;241m*\u001b[39m np\u001b[38;5;241m.\u001b[39msum(x\u001b[38;5;241m*\u001b[39m\u001b[38;5;241m*\u001b[39m\u001b[38;5;241m2\u001b[39m)\n\u001b[0;32m     94\u001b[0m \u001b[38;5;66;03m# WE COMPUTE THE VARIANCE\u001b[39;00m\n\u001b[0;32m     96\u001b[0m var1 \u001b[38;5;241m=\u001b[39m meanx\u001b[38;5;241m*\u001b[39m\u001b[38;5;241m*\u001b[39m\u001b[38;5;241m2\u001b[39m\n",
      "\u001b[1;31mTypeError\u001b[0m: unsupported operand type(s) for ** or pow(): 'list' and 'int'"
     ]
    }
   ],
   "source": [
    "import part_A\n",
    "\n",
    "part_A.std_builtin((row2))"
   ]
  },
  {
   "cell_type": "code",
   "execution_count": null,
   "metadata": {},
   "outputs": [],
   "source": []
  }
 ],
 "metadata": {
  "kernelspec": {
   "display_name": "Python 3 (ipykernel)",
   "language": "python",
   "name": "python3"
  },
  "language_info": {
   "codemirror_mode": {
    "name": "ipython",
    "version": 3
   },
   "file_extension": ".py",
   "mimetype": "text/x-python",
   "name": "python",
   "nbconvert_exporter": "python",
   "pygments_lexer": "ipython3",
   "version": "3.12.4"
  }
 },
 "nbformat": 4,
 "nbformat_minor": 4
}

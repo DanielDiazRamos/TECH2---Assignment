{
 "cells": [
  {
   "cell_type": "markdown",
   "metadata": {},
   "source": [
    "# TECH 2 mandatory assignment - Part B\n",
    "\n",
    "Write your solution for Part B in this notebook."
   ]
  },
  {
   "cell_type": "markdown",
   "metadata": {},
   "source": [
    "**We import all the necessary libraries. Both NumPy and our own part_A**"
   ]
  },
  {
   "cell_type": "code",
   "execution_count": 1,
   "metadata": {},
   "outputs": [],
   "source": [
    "import part_A\n",
    "import numpy as np\n",
    "import time"
   ]
  },
  {
   "cell_type": "markdown",
   "metadata": {},
   "source": [
    "**We open the data file**\n",
    "\n",
    "And we save the data divided in rows:"
   ]
  },
  {
   "cell_type": "code",
   "execution_count": 4,
   "metadata": {},
   "outputs": [],
   "source": [
    "rows = open(\"data.csv\", \"r\")\n",
    "\n",
    "# WE CALCULATE HOW MANY ROWS WE HAVE\n",
    "\n",
    "rowlen = np.array(list(rows.read()))\n",
    "commas = np.where(rowlen == ',')[0]\n",
    "numrows = int((len(commas))/2)\n",
    "\n",
    "# WE SAVE EVERY ROW SEPARATED\n",
    "\n",
    "rows2 = open(\"data.csv\", \"r\")\n",
    "\n",
    "rowsdata = []\n",
    "count = 0\n",
    "\n",
    "while count <= numrows:\n",
    "    rowsdata.append(rows2.readline())\n",
    "    count = count+1"
   ]
  },
  {
   "cell_type": "markdown",
   "metadata": {},
   "source": [
    "**We calculate how long is every data columns**\n",
    "\n",
    "By finding the rows that begin with commas"
   ]
  },
  {
   "cell_type": "code",
   "execution_count": 7,
   "metadata": {},
   "outputs": [],
   "source": [
    "count = 0\n",
    "row1 = []\n",
    "row2 = []\n",
    "row3 = []\n",
    "\n",
    "while count <= numrows:\n",
    "    rowlist = list(rowsdata[count])\n",
    "    nprowlist = np.array(rowlist)\n",
    "    wherecomma = np.where(nprowlist == \",\")[0]\n",
    "    wheren = np.where(nprowlist == \"\\n\")[0]\n",
    "\n",
    "    # WE CHECK IF THE LIST IS BROKEN\n",
    "    if rowlist == []:\n",
    "        count = count +1\n",
    "\n",
    "    # WE COMPLETE THE FIRST LIST\n",
    "    elif rowlist[0] == \"0\":\n",
    "        row1.append(float(\"\".join(rowlist[0:((wherecomma[0]))])))\n",
    "        row2.append(float(\"\".join(rowlist[((wherecomma[0])+1):((wherecomma[1]))])))\n",
    "        row3.append(float(\"\".join(rowlist[((wherecomma[1])+1):((wheren[0]))])))\n",
    "\n",
    "    # WE COMPLETE THE SECOND LIST\n",
    "    elif rowlist[1] == \"0\":\n",
    "        row2.append(float(\"\".join(rowlist[((wherecomma[0])+1):((wherecomma[1]))])))\n",
    "        row3.append(float(\"\".join(rowlist[((wherecomma[1])+1):((wheren[0]))])))\n",
    "\n",
    "    # WE COMPLETE THE THIRD LIST\n",
    "    elif rowlist[2] == \"0\":\n",
    "        row3.append(float(\"\".join(rowlist[((wherecomma[1])+1):((wheren[0]))])))\n",
    "\n",
    "    \n",
    "    count = count + 1"
   ]
  },
  {
   "cell_type": "markdown",
   "metadata": {},
   "source": [
    "**We now proceed to test the speed of the first function using only loops**\n",
    "\n",
    "And we record the time marks:"
   ]
  },
  {
   "cell_type": "code",
   "execution_count": 10,
   "metadata": {},
   "outputs": [
    {
     "name": "stdout",
     "output_type": "stream",
     "text": [
      "0.0\n",
      "0.0029942989349365234\n",
      "0.1377267837524414\n"
     ]
    }
   ],
   "source": [
    "start_time = time.time()\n",
    "part_A.std_loops(row1)\n",
    "end_time = time.time()\n",
    "time_row1 = end_time - start_time\n",
    "\n",
    "start_time = time.time()\n",
    "part_A.std_loops(row2)\n",
    "end_time = time.time()\n",
    "time_row2 = end_time - start_time\n",
    "\n",
    "start_time = time.time()\n",
    "part_A.std_loops(row3)\n",
    "end_time = time.time()\n",
    "time_row3 = end_time - start_time\n",
    "\n",
    "print(time_row1)\n",
    "print(time_row2)\n",
    "print(time_row3)"
   ]
  },
  {
   "cell_type": "markdown",
   "metadata": {},
   "source": [
    "**Now we can record the execution time of the second function**\n",
    "\n",
    "The function in which we used built-in functions for the sake of simplicity:"
   ]
  },
  {
   "cell_type": "code",
   "execution_count": 37,
   "metadata": {},
   "outputs": [
    {
     "name": "stdout",
     "output_type": "stream",
     "text": [
      "0.0\n",
      "0.0\n",
      "0.010644197463989258\n"
     ]
    }
   ],
   "source": [
    "start_time = time.time()\n",
    "part_A.std_builtin(row1)\n",
    "end_time = time.time()\n",
    "time_row1 = end_time - start_time\n",
    "\n",
    "start_time = time.time()\n",
    "part_A.std_builtin(row2)\n",
    "end_time = time.time()\n",
    "time_row2 = end_time - start_time\n",
    "\n",
    "start_time = time.time()\n",
    "part_A.std_builtin(row3)\n",
    "end_time = time.time()\n",
    "time_row3 = end_time - start_time\n",
    "\n",
    "print(time_row1)\n",
    "print(time_row2)\n",
    "print(time_row3)"
   ]
  },
  {
   "cell_type": "markdown",
   "metadata": {},
   "source": [
    "**Finally, we can evaluate the execution time of np.std**\n",
    "\n",
    "And record it, as in the previous tests:"
   ]
  },
  {
   "cell_type": "code",
   "execution_count": 39,
   "metadata": {},
   "outputs": [
    {
     "name": "stdout",
     "output_type": "stream",
     "text": [
      "0.0010039806365966797\n",
      "0.0\n",
      "0.0020024776458740234\n"
     ]
    }
   ],
   "source": [
    "start_time = time.time()\n",
    "np.std(row1)\n",
    "end_time = time.time()\n",
    "time_row1 = end_time - start_time\n",
    "\n",
    "start_time = time.time()\n",
    "np.std(row2)\n",
    "end_time = time.time()\n",
    "time_row2 = end_time - start_time\n",
    "\n",
    "start_time = time.time()\n",
    "np.std(row3)\n",
    "end_time = time.time()\n",
    "time_row3 = end_time - start_time\n",
    "\n",
    "print(time_row1)\n",
    "print(time_row2)\n",
    "print(time_row3)"
   ]
  },
  {
   "cell_type": "markdown",
   "metadata": {},
   "source": [
    "**Results evaluation:**\n",
    "\n",
    "After several tests, and fixing an efficiency issue in one of my functions, I have the following conclussion:\n",
    "\n",
    "- When it comes to my functions at part_A it is clear that using built-in functions is more efficient than relying on countless loops. This is mainly due to the fact that the work of a first year programming student will rarely be more efficient than that of an open source community composed by thousands of software engineers that have spent the past years or perhaps decades of their lifes developing libraries not only for Python, but probably Fortram and other programming languages. And therefore, we can safely assume that their functions will be more efficient than mines.\n",
    "\n",
    "- However, when it comes to my function containing built-in functions such as len(), when we compare it with np's std() function we observe very similar execution times. And even more surprisingly, when it comes to larger datasets such as row3 my function tends to be more efficient. However, please notice the keyword \"tends\" since this is not always the case.\n",
    "\n",
    "In order to provide more concluding insights I would need a larger data set."
   ]
  },
  {
   "cell_type": "code",
   "execution_count": null,
   "metadata": {},
   "outputs": [],
   "source": []
  }
 ],
 "metadata": {
  "kernelspec": {
   "display_name": "Python 3 (ipykernel)",
   "language": "python",
   "name": "python3"
  },
  "language_info": {
   "codemirror_mode": {
    "name": "ipython",
    "version": 3
   },
   "file_extension": ".py",
   "mimetype": "text/x-python",
   "name": "python",
   "nbconvert_exporter": "python",
   "pygments_lexer": "ipython3",
   "version": "3.12.4"
  }
 },
 "nbformat": 4,
 "nbformat_minor": 4
}
